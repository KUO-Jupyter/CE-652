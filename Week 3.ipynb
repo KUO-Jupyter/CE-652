{
 "cells": [
  {
   "cell_type": "markdown",
   "metadata": {},
   "source": [
    "# CE - 652\n",
    "## Artificial Intelligence for Autonomous Driving\n",
    "## Application Assigments \n",
    "##### Week: 3\n",
    "##### Instructor: Dr. Juan D. Gomez\n",
    "Related Videos: [Backpropagation](www.youtube.com) "
   ]
  },
  {
   "cell_type": "markdown",
   "metadata": {},
   "source": [
    "NOTE: Before you develop this assigment please go to [Playground](https://playground.tensorflow.org/) and try to find a neural network architecture to solve the problem 4 (DATA: the spiral-like data). Report a picture of your best classification (OUTPUT) and a full description of the architecture (FEATURES, HIDDEN LAYERS, Learning rate, Activation, etc.) you used to achieve such a result. "
   ]
  },
  {
   "cell_type": "code",
   "execution_count": 3,
   "metadata": {},
   "outputs": [],
   "source": [
    "import random\n",
    "import numpy as np\n",
    "import matplotlib.pyplot as plt # For plotting"
   ]
  },
  {
   "cell_type": "markdown",
   "metadata": {},
   "source": [
    "# 1.  BackPropagation:\n"
   ]
  },
  {
   "cell_type": "markdown",
   "metadata": {},
   "source": [
    "The following class (neuralnetwork) creates neural network objects that can be trained and tested using the back propagation algorithm. Be aware that this is a very inefficient code meant to show the details of the algorithm.\n",
    "\n",
    "Weights are not initialized completely randomly, reason why this class has a method called ‘initialize_weights’ with two different options to initialize them. These methods however are beyond the scope of this course, so do not care much about understanding them. \n",
    "\n",
    "Also, there are multiple options for the transfer functions of neurons. By and large, we can select one type for neurons in all inner layers and one for neurons in the last or output layer. The options are: tansig, lineal, relu and sigmoid. \n",
    "\n",
    "The main method is ‘train’ and that is precisely the one you are asked to contribute with. There are two lines of code missing (i.e. 'YOUR CODE TO FIND DELTA (Z) HERE!!!') and you have to complete them. They both have to do with the calculation of Z or Delta in the output/inner layer(s). Please complete! So the rest of the code can be run and the results resemble those here already given. \n"
   ]
  },
  {
   "cell_type": "code",
   "execution_count": 4,
   "metadata": {},
   "outputs": [],
   "source": [
    "class neuralnetwork:\n",
    "\tdef __init__ (self,P,T,layers, tol=0.001, alpha=0.01, ite=5000, in_fun='tangh',out_fun='lineal',weight_ini=0):\n",
    "\t\tself.P=P\n",
    "\t\tself.T=T\n",
    "\t\tself.layers=layers\n",
    "\t\tself.tol=tol\n",
    "\t\tself.alpha=alpha\n",
    "\t\tself.ite=ite\n",
    "\t\tself.in_fun=in_fun\n",
    "\t\tself.out_fun=out_fun\n",
    "\t\tself.weight_ini=weight_ini\n",
    "\t\tself.Ws=list()\n",
    "\t\tself.Bs=list()\n",
    "\t\tself.initialize_weights()\n",
    "        \n",
    "\tdef initialize_weights(self):\n",
    "\t\tsize_entry=self.P.shape[0]\n",
    "\t\tif self.weight_ini==0:\n",
    "\t\t\tfor i in range(len(self.layers)):#this for creates random weight matrixes for all layers\n",
    "\t\t\t\tself.Ws.append( 2*np.random.rand(self.layers[i],size_entry)-1 )\n",
    "\t\t\t\tself.Bs.append( 2*np.random.rand(self.layers[i], 1)-1 ) # bias\n",
    "\t\t\t\tsize_entry=self.Ws[i].shape[0]\n",
    "\t\telif self.weight_ini==1:\n",
    "\t\t\tfor i in range(len(self.layers)):#this for creates random weight matrixes for all layers\n",
    "\t\t\t\tself.Ws.append( (2*np.random.rand(self.layers[i],size_entry)-1)  *    np.sqrt(1/size_entry)      )\n",
    "\t\t\t\tself.Bs.append( 2*np.random.rand(self.layers[i], 1)-1 ) # bias\n",
    "\t\t\t\tsize_entry=self.Ws[i].shape[0]\n",
    "\t\telse:\n",
    "\t\t\tprint(\"Not recognized method for weights initialization\") \n",
    "            \n",
    "\tdef tansig(self, x, derivative=False):\n",
    "\t\targ=(np.exp(x) - np.exp(-x))/(np.exp(x) + np.exp(-x))\n",
    "\t\treturn 1-np.square(arg) if derivative else  arg#2/(1+np.exp(-2*x))-1\n",
    "    \n",
    "\tdef lineal(self,x,derivative=False):\n",
    "\t\treturn 1 if derivative else  x\n",
    "    \n",
    "\tdef relu(self,x,derivative=False):\n",
    "\t\treturn (0+(x>0)) if derivative else np.maximum(np.zeros(x.shape),x) \n",
    "    \n",
    "\tdef sigmoid(self,x, derivative=False):\n",
    "\t\targ=1/(1+np.exp(-x))\t\n",
    "\t\treturn np.multiply(arg, 1- arg) if derivative else arg\n",
    "    \n",
    "\tdef activation_fun(self,arg,fun,derivative):\n",
    "\t\tif fun=='lineal':\n",
    "\t\t\tnet=self.lineal(arg,derivative) #lineal output\n",
    "\t\telif fun=='tangh' :\n",
    "\t\t\tnet=self.tansig(arg,derivative) #tan output\n",
    "\t\telif fun=='relu':\n",
    "\t\t\tnet=self.relu(arg,derivative)\n",
    "\t\telif fun=='sigmoid':\n",
    "\t\t\tnet=self.sigmoid(arg,derivative)\n",
    "\t\telse:\n",
    "\t\t\tprint(\"Not recognized function\", fun)\n",
    "\t\treturn net\n",
    "    \n",
    "\tdef test(self):\n",
    "\t\tAs=[]# A is the output (a) of every layer\n",
    "\t\tZs=[]\n",
    "\t\tAs.append(self.P)\n",
    "\t\tZs.append('False')\n",
    "\t\tfor i in range(len(self.Ws)):\n",
    "\t\t\targ=self.Ws[i]*As[i]+self.Bs[i]\n",
    "\t\t\tif i==len(self.Ws)-1: #if it is the otputlayer\n",
    "\t\t\t\tnet=self.activation_fun(arg,self.out_fun, derivative=False)\n",
    "\t\t\telse:#is an inner layer\n",
    "\t\t\t\tnet=self.activation_fun(arg,self.in_fun, derivative=False) \n",
    "\t\t\tAs.append(net)\n",
    "\t\t\tZs.append(arg)\n",
    "\t\treturn As, Zs\n",
    "    \n",
    "\tdef calculate_mse(self,e):\n",
    "\t\terror=0.5*((np.square(e).sum(axis=0)).sum(axis=1) / e.shape[1])\n",
    "\t\treturn error\n",
    "\n",
    "\tdef train(self):\n",
    "\t\tAs, Zs=self.test()#try the net with the new random weights\n",
    "\t\te=self.T-As[-1]\n",
    "\t\tmse = self.calculate_mse(e)#mean squared error\t\t\n",
    "\t\tt=0\n",
    "\t\tdW=list()\n",
    "\t\tdB=list()\n",
    "\t\tWt=list()\n",
    "\t\tBt=list()\n",
    "\t\terr_curve=list()\n",
    "\t\tprint ('training...')\n",
    "\t\twhile t<self.ite and mse>self.tol:\n",
    "\t\t\t\n",
    "\t\t\tfor l in range(-1, -len(self.Ws)-1, -1):#go trhough all layers of the net backwards             \n",
    "\t\t\t\tif l==-1:#if this is the output layer\n",
    "\t\t\t\t\te=self.T-As[-1] \n",
    "\t\t\t\t\t#m = self.P.transpose() which should be true based on todays discussion.  I know there is \n",
    "                    #an easier way to do this, but for some reaosn, this just worked so I am sticking with it.\n",
    "\t\t\t\t\tdelta= np.multiply(((-1/len(self.P.transpose())) * e) , self.activation_fun(Zs[-1],self.out_fun, derivative=True))\n",
    "\t\t\t\telse: \n",
    "\t\t\t\t\t#print('delta[l+1] = ' + str(delta[l+1]))   \n",
    "\t\t\t\t\t#print('self.Ws[l+1].transpose() = ' + str(self.Ws[l+1].transpose()))\n",
    "\t\t\t\t\tdelta= np.multiply((self.Ws[l+1].transpose() * delta[l+1]) , self.activation_fun(Zs[l],self.in_fun,derivative=True)) \n",
    "\t\t\t\t#print('delta = ' + str(delta))   \n",
    "\t\t\t\t#print(type(e))\n",
    "\t\t\t\tself.Ws[l]=self.Ws[l]-( self.alpha* (delta*As[l-1].transpose()) )\n",
    "\t\t\t\tself.Bs[l]=self.Bs[l]-( self.alpha*np.sum(delta,axis=1) )\n",
    "                \n",
    "\t\t\tAs, Zs=self.test()\n",
    "\t\t\tmse = self.calculate_mse(e)#mean squared error\n",
    "\t\t\tt+=1\n",
    "\t\t\terr_curve+=[mse[0,0]]\n",
    "\t\treturn self.Ws, self.Bs, err_curve\n",
    "   \n",
    "\tdef response(self,Ws,Bs,P):\n",
    "\t\tAs=[]# A is the output (a) of every layer\n",
    "\t\tAs.append(P)\n",
    "\t\tfor i in range(len(Ws)):\n",
    "\t\t\targ=Ws[i]*As[i]+Bs[i]\n",
    "\t\t\tif i==len(Ws)-1: #if it is the otputlayer\n",
    "\t\t\t\tnet=self.activation_fun(arg,self.out_fun,derivative=False)\n",
    "\t\t\telse:#is an inner layer\n",
    "\t\t\t\tnet=self.activation_fun(arg,self.in_fun,derivative=False) \n",
    "\t\t\tAs.append(net)\n",
    "\t\treturn As[-1]\n"
   ]
  },
  {
   "cell_type": "markdown",
   "metadata": {},
   "source": [
    "## See the code to implement an object neural network, how to train it and test it:"
   ]
  },
  {
   "cell_type": "code",
   "execution_count": 5,
   "metadata": {},
   "outputs": [
    {
     "name": "stdout",
     "output_type": "stream",
     "text": [
      "training...\n",
      "Network response:  [[-1.  1.  1. -1.]]\n",
      "Targets:  [[-1  1  1 -1]]\n"
     ]
    }
   ],
   "source": [
    "# Define our problem: XOR gate\n",
    "P=np.matrix('0, 0, 1, 1;\\\n",
    "             0, 1, 0, 1')\n",
    "T=np.matrix('-1, 1, 1 -1')\n",
    "\n",
    "# define a neural network with 2 layers [2 neurons, 1 neuron], all nuerons with transfer fuction 'tangh'\n",
    "net=neuralnetwork(P,T,[2,1],out_fun='tangh', in_fun=\"tangh\",ite=5002, alpha=0.1, weight_ini=1)\n",
    "\n",
    "# train the network\n",
    "Ws, Bs, mse=net.train()\n",
    "\n",
    "# see how my network responses to the problem after training\n",
    "As=net.response(Ws,Bs,P)\n",
    "print('Network response: ',np.round(As))\n",
    "\n",
    "# versus my targets\n",
    "print('Targets: ',T)"
   ]
  },
  {
   "cell_type": "markdown",
   "metadata": {},
   "source": [
    "## See graphical results of our training:"
   ]
  },
  {
   "cell_type": "code",
   "execution_count": 6,
   "metadata": {},
   "outputs": [
    {
     "data": {
      "image/png": "[encoded data removed]",
      "text/plain": [
       "<Figure size 432x288 with 1 Axes>"
      ]
     },
     "metadata": {
      "needs_background": "light"
     },
     "output_type": "display_data"
    },
    {
     "name": "stdout",
     "output_type": "stream",
     "text": [
      "Final error 0.0009999822231108605\n",
      "Reached in 2990  iterations\n"
     ]
    }
   ],
   "source": [
    "plt.plot(range(len(mse)), mse)\n",
    "\n",
    "plt.xlabel(\"Iterations\")\n",
    "plt.ylabel(\"Error\")\n",
    "\n",
    "# Showing the plot.\n",
    "plt.show()\n",
    "\n",
    "print('Final error', mse[-1])\n",
    "print('Reached in', len(mse),' iterations')"
   ]
  },
  {
   "cell_type": "markdown",
   "metadata": {},
   "source": [
    "# 2.  Advanced Libraries (tensorflow):"
   ]
  },
  {
   "cell_type": "code",
   "execution_count": 7,
   "metadata": {},
   "outputs": [
    {
     "name": "stderr",
     "output_type": "stream",
     "text": [
      "2021-10-15 22:09:23.083641: W tensorflow/stream_executor/platform/default/dso_loader.cc:64] Could not load dynamic library 'libcudart.so.11.0'; dlerror: libcudart.so.11.0: cannot open shared object file: No such file or directory\n",
      "2021-10-15 22:09:23.083670: I tensorflow/stream_executor/cuda/cudart_stub.cc:29] Ignore above cudart dlerror if you do not have a GPU set up on your machine.\n"
     ]
    }
   ],
   "source": [
    "# TensorFlow and tf.keras\n",
    "import tensorflow as tf\n",
    "from tensorflow import keras\n",
    "\n",
    "import numpy as np\n",
    "import matplotlib.pyplot as plt"
   ]
  },
  {
   "cell_type": "markdown",
   "metadata": {},
   "source": [
    "We want to implement a neural network to solve a particular classification problem using high level libraries (Tensorflow, keras). Please refer to any tutorial about Keras (on the web) to explain the chunks of code below, every time you are asked to leave an explanation. \n",
    "\n",
    "For this problem let's load the database Fashion (with 10 different classes) already incorporated in Keras:\n"
   ]
  },
  {
   "cell_type": "code",
   "execution_count": 8,
   "metadata": {},
   "outputs": [],
   "source": [
    "#load the database from keras\n",
    "fashion_mnist = keras.datasets.fashion_mnist\n",
    "(train_images, train_labels), (test_images, test_labels) = fashion_mnist.load_data()\n",
    "\n",
    "class_names = ['T-shirt/top', 'Trouser', 'Pullover', 'Dress', 'Coat','Sandal', 'Shirt', 'Sneaker', 'Bag', 'Ankle boot']"
   ]
  },
  {
   "cell_type": "markdown",
   "metadata": {},
   "source": [
    "Let's check the size of our data: "
   ]
  },
  {
   "cell_type": "code",
   "execution_count": 9,
   "metadata": {},
   "outputs": [
    {
     "name": "stdout",
     "output_type": "stream",
     "text": [
      "(60000, 28, 28) (60000,) (10000, 28, 28) (10000,)\n"
     ]
    }
   ],
   "source": [
    "print(train_images.shape, train_labels.shape, test_images.shape, test_labels.shape)"
   ]
  },
  {
   "cell_type": "markdown",
   "metadata": {},
   "source": [
    "We have 600000 28x28 images to learn and 100000 images to test after training. Let's have a look at some of the images:"
   ]
  },
  {
   "cell_type": "code",
   "execution_count": 10,
   "metadata": {
    "scrolled": true
   },
   "outputs": [
    {
     "data": {
      "image/png": "[encoded data removed]",
      "text/plain": [
       "<Figure size 720x720 with 25 Axes>"
      ]
     },
     "metadata": {},
     "output_type": "display_data"
    }
   ],
   "source": [
    "train_images = train_images / 255.0\n",
    "test_images = test_images / 255.0\n",
    "\n",
    "plt.figure(figsize=(10,10))\n",
    "for i in range(25):\n",
    "    plt.subplot(5,5,i+1)\n",
    "    plt.xticks([])\n",
    "    plt.yticks([])\n",
    "    plt.grid(False)\n",
    "    plt.imshow(train_images[i], cmap=plt.cm.binary)\n",
    "    plt.xlabel(class_names[train_labels[i]])"
   ]
  },
  {
   "cell_type": "markdown",
   "metadata": {},
   "source": [
    "Please explain this code:\n",
    "\n",
    "This simply outputs the images that we want to train.  There are 10 different classes and these are the first 25 images in the \"train images\" set.  We are training 60000 images that are low quality (28px by 28px)."
   ]
  },
  {
   "cell_type": "code",
   "execution_count": 11,
   "metadata": {},
   "outputs": [],
   "source": [
    "tr_labels=np.zeros((60000,10))\n",
    "t_labels=np.zeros((10000,10))\n",
    "for i in range(tr_labels.shape[0]):\n",
    "    tr_labels[i,train_labels[i]]=1\n",
    "    \n",
    "for i in range(t_labels.shape[0]):\n",
    "    t_labels[i,test_labels[i]]=1"
   ]
  },
  {
   "cell_type": "markdown",
   "metadata": {},
   "source": [
    "Your explanation here:\n",
    "\n",
    "We are initializing the trained labels (tr_labels) to be the target labels that match the training images. These are our \"correct\" answers.  And then we are initializing the test labels to the correct answer for the test images.  These will be used to calculate the accuracy of the system. \n",
    "\n",
    "So the tr_labels are the correct answers to the training images.\n",
    "And the t_labels are the correct answers to the test images (which will be used to calculate accuracy)"
   ]
  },
  {
   "cell_type": "markdown",
   "metadata": {},
   "source": [
    "### Now let's create a model in keras:"
   ]
  },
  {
   "cell_type": "code",
   "execution_count": 12,
   "metadata": {},
   "outputs": [
    {
     "name": "stderr",
     "output_type": "stream",
     "text": [
      "2021-10-15 22:09:40.051484: W tensorflow/stream_executor/platform/default/dso_loader.cc:64] Could not load dynamic library 'libcuda.so.1'; dlerror: libcuda.so.1: cannot open shared object file: No such file or directory\n",
      "2021-10-15 22:09:40.051520: W tensorflow/stream_executor/cuda/cuda_driver.cc:269] failed call to cuInit: UNKNOWN ERROR (303)\n",
      "2021-10-15 22:09:40.051544: I tensorflow/stream_executor/cuda/cuda_diagnostics.cc:156] kernel driver does not appear to be running on this host (d05b4e05a114): /proc/driver/nvidia/version does not exist\n"
     ]
    }
   ],
   "source": [
    "model = keras.Sequential([\n",
    "    keras.layers.Flatten(input_shape=(28, 28)),\n",
    "    keras.layers.Dense(128, activation=tf.nn.relu),\n",
    "    keras.layers.Dense(10, activation=tf.nn.softmax)\n",
    "])"
   ]
  },
  {
   "cell_type": "markdown",
   "metadata": {},
   "source": [
    "Your explanation of the avobe code here.\n",
    "\n",
    "This creates a neural network model.  The model has three layers.  One is the input (which is a \"flattened shape\" that is 28x28 (784 inputs).  This appears to contain the input (which is the 28x28 pictures).  The next layer brings it down to 128 neurons.  The last layer is then 10 neurons.  \n",
    "\n",
    "The flatten function \"flattens a function into a \"1d\" matrix.  The dense function is \"Just your regular densely-connected NN layer.\""
   ]
  },
  {
   "cell_type": "markdown",
   "metadata": {},
   "source": [
    "### Let's complile our model:"
   ]
  },
  {
   "cell_type": "code",
   "execution_count": 13,
   "metadata": {},
   "outputs": [],
   "source": [
    "model.compile(optimizer=tf.optimizers.Adam(), \n",
    "              loss='mean_squared_error',\n",
    "              metrics=['accuracy'])"
   ]
  },
  {
   "cell_type": "markdown",
   "metadata": {},
   "source": [
    "Your explanation of the avobe code here.  \n",
    "\n",
    "Compile, compiles the model.  The optimizer uses the Adam algorithm. The Adam algorithm is \" a stochastic gradient descent method that is based on adaptive estimation of first-order and second-order moments\".  \n",
    "\n",
    "Loss defines that the mean squared error function will be used to calculate the error in the learning process. \n",
    "\n",
    "metrics is defined as accuracy which is used to evaluate the performance of the model. "
   ]
  },
  {
   "cell_type": "markdown",
   "metadata": {},
   "source": [
    "### Let's train our model:\n"
   ]
  },
  {
   "cell_type": "code",
   "execution_count": 14,
   "metadata": {
    "scrolled": true
   },
   "outputs": [
    {
     "name": "stderr",
     "output_type": "stream",
     "text": [
      "2021-10-15 22:09:45.159681: W tensorflow/core/framework/cpu_allocator_impl.cc:80] Allocation of 188160000 exceeds 10% of free system memory.\n",
      "2021-10-15 22:09:47.559990: I tensorflow/compiler/mlir/mlir_graph_optimization_pass.cc:185] None of the MLIR Optimization Passes are enabled (registered 2)\n"
     ]
    },
    {
     "name": "stdout",
     "output_type": "stream",
     "text": [
      "Epoch 1/5\n",
      "1875/1875 [==============================] - 5s 1ms/step - loss: 0.0260 - accuracy: 0.8217\n",
      "Epoch 2/5\n",
      "1875/1875 [==============================] - 2s 1ms/step - loss: 0.0201 - accuracy: 0.8627\n",
      "Epoch 3/5\n",
      "1875/1875 [==============================] - 2s 1ms/step - loss: 0.0184 - accuracy: 0.8743\n",
      "Epoch 4/5\n",
      "1875/1875 [==============================] - 2s 994us/step - loss: 0.0172 - accuracy: 0.8816\n",
      "Epoch 5/5\n",
      "1875/1875 [==============================] - 2s 1ms/step - loss: 0.0163 - accuracy: 0.8883\n"
     ]
    },
    {
     "data": {
      "text/plain": [
       "<keras.callbacks.History at 0x7fde9855a730>"
      ]
     },
     "execution_count": 14,
     "metadata": {},
     "output_type": "execute_result"
    }
   ],
   "source": [
    "model.fit(train_images, tr_labels, epochs=5)"
   ]
  },
  {
   "cell_type": "markdown",
   "metadata": {},
   "source": [
    "Your explanation of the avobe code here\n",
    "\n",
    "This is where we train the model.  \"train_images\" is the set of 60000 images that are used as imputs to train the system.  tr_lables are the target answers that are ties to the train_images. We will be traiining this by 5 epochs. As you can see, the accuracy gets better with every epoch so  it is a good idea to train it with more epochs, but there comes a time where you get diminishing returns.  The last two epochs have roughly the same accuracy. \n",
    "\n",
    "With my current training results, I get the following:\n",
    "\n",
    "Epoch  | Accuracy\n",
    "------ | ------\n",
    "1      | 0.8182  \n",
    "2      | 0.8626  \n",
    "3      | 0.8753  \n",
    "4      | 0.8838  \n",
    "5      | 0.8892  \n",
    "\n"
   ]
  },
  {
   "cell_type": "markdown",
   "metadata": {},
   "source": [
    "### Let's test our model:"
   ]
  },
  {
   "cell_type": "code",
   "execution_count": 15,
   "metadata": {},
   "outputs": [
    {
     "name": "stdout",
     "output_type": "stream",
     "text": [
      " 72/313 [=====>........................] - ETA: 0s - loss: 0.0174 - accuracy: 0.8828 "
     ]
    },
    {
     "name": "stderr",
     "output_type": "stream",
     "text": [
      "2021-10-15 22:10:03.626044: W tensorflow/core/framework/cpu_allocator_impl.cc:80] Allocation of 31360000 exceeds 10% of free system memory.\n"
     ]
    },
    {
     "name": "stdout",
     "output_type": "stream",
     "text": [
      "313/313 [==============================] - 0s 735us/step - loss: 0.0193 - accuracy: 0.8677\n",
      "Test accuracy: 0.8676999807357788\n"
     ]
    }
   ],
   "source": [
    "test_loss, test_acc = model.evaluate(test_images, t_labels)\n",
    "print('Test accuracy:', test_acc)"
   ]
  },
  {
   "cell_type": "markdown",
   "metadata": {},
   "source": [
    "Your explanation of the above code here.  \n",
    "\n",
    "Now we are testing our model.  We are evaluating it based on the test images supplied as well as the test labels (to evaluate if we got it right or wrong).\n",
    "\n",
    "After this is executed, the test loss and the test accuracy is outputted.  \n",
    "\n",
    "The test accuracy in this current run is: 0.8684999942779541"
   ]
  },
  {
   "cell_type": "markdown",
   "metadata": {},
   "source": [
    "### Let's make predictions with our model:"
   ]
  },
  {
   "cell_type": "code",
   "execution_count": 16,
   "metadata": {},
   "outputs": [
    {
     "name": "stderr",
     "output_type": "stream",
     "text": [
      "2021-10-15 22:10:06.950860: W tensorflow/core/framework/cpu_allocator_impl.cc:80] Allocation of 31360000 exceeds 10% of free system memory.\n"
     ]
    }
   ],
   "source": [
    "predictions = model.predict(test_images)"
   ]
  },
  {
   "cell_type": "markdown",
   "metadata": {},
   "source": [
    "Ready! This is how to train a Neural Network, using TensorFlow and Keras. Now let's see graphically the results of our predictions. So, the following code has nothing to do with Neural Network just with plotting the results. Do not worry about it!"
   ]
  },
  {
   "cell_type": "code",
   "execution_count": 17,
   "metadata": {},
   "outputs": [
    {
     "data": {
      "image/png": "[encoded data removed]",
      "text/plain": [
       "<Figure size 864x720 with 30 Axes>"
      ]
     },
     "metadata": {},
     "output_type": "display_data"
    }
   ],
   "source": [
    "def plot_image(i, predictions_array, true_label, img):\n",
    "  predictions_array, true_label, img = predictions_array[i], true_label[i], img[i]\n",
    "  plt.grid(False)\n",
    "  plt.xticks([])\n",
    "  plt.yticks([])\n",
    "  \n",
    "  plt.imshow(img, cmap=plt.cm.binary)\n",
    "\n",
    "  predicted_label = np.argmax(predictions_array)\n",
    "  if predicted_label == true_label:\n",
    "    color = 'blue'\n",
    "  else:\n",
    "    color = 'red'\n",
    "  \n",
    "  plt.xlabel(\"{} {:2.0f}% ({})\".format(class_names[predicted_label],\n",
    "                                100*np.max(predictions_array),\n",
    "                                class_names[true_label]),\n",
    "                                color=color)\n",
    "\n",
    "def plot_value_array(i, predictions_array, true_label):\n",
    "  predictions_array, true_label = predictions_array[i], true_label[i]\n",
    "  plt.grid(False)\n",
    "  plt.xticks([])\n",
    "  plt.yticks([])\n",
    "  thisplot = plt.bar(range(10), predictions_array, color=\"#777777\")\n",
    "  plt.ylim([0, 1]) \n",
    "  predicted_label = np.argmax(predictions_array)\n",
    " \n",
    "  thisplot[predicted_label].set_color('red')\n",
    "  thisplot[true_label].set_color('blue')\n",
    "    \n",
    "    \n",
    "    \n",
    "# Plot the first X test images, their predicted label, and the true label\n",
    "# Color correct predictions in blue, incorrect predictions in red\n",
    "num_rows = 5\n",
    "num_cols = 3\n",
    "num_images = num_rows*num_cols\n",
    "plt.figure(figsize=(2*2*num_cols, 2*num_rows))\n",
    "for i in range(num_images):\n",
    "  plt.subplot(num_rows, 2*num_cols, 2*i+1)\n",
    "  plot_image(i, predictions, test_labels, test_images)\n",
    "  plt.subplot(num_rows, 2*num_cols, 2*i+2)\n",
    "  plot_value_array(i, predictions, test_labels)"
   ]
  },
  {
   "cell_type": "markdown",
   "metadata": {},
   "source": [
    "Your explanation (interpretation) of the above results here!"
   ]
  },
  {
   "cell_type": "markdown",
   "metadata": {},
   "source": [
    "Now we are outputting the results for the first 15 test images, with a bar graph of the classification outputs right next to it.  In the current run, the first 15 test images were all correct.\n",
    "\n",
    "As you can see with most of the results, most of the images were heavily favoring the correct label.  The bottom left picture is not as accurate, 65% accuracy in this current result. \n",
    "\n",
    "_I just ran it again and the bottom left picture was 98% classified as a sandal (not a sneaker)!_ \n",
    "\n",
    "In one of my earlier runs, I actually had the bottom left picture (of the sneaker) be classified as a sandal. It is interesting how the results may change with different models created.  I am assuming that is due to the initialization of random weights. "
   ]
  }
 ],
 "metadata": {
  "kernelspec": {
   "display_name": "Python 3 (ipykernel)",
   "language": "python",
   "name": "python3"
  },
  "language_info": {
   "codemirror_mode": {
    "name": "ipython",
    "version": 3
   },
   "file_extension": ".py",
   "mimetype": "text/x-python",
   "name": "python",
   "nbconvert_exporter": "python",
   "pygments_lexer": "ipython3",
   "version": "3.9.7"
  }
 },
 "nbformat": 4,
 "nbformat_minor": 2
}
