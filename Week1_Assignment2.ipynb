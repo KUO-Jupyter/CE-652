{
 "cells": [
  {
   "cell_type": "markdown",
   "metadata": {},
   "source": [
    "# CE - 652\n",
    "## Artificial Intelligence for Autonomous Driving\n",
    "## Application Assigment 2\n",
    "##### Week: 1"
   ]
  },
  {
   "cell_type": "code",
   "execution_count": 29,
   "metadata": {},
   "outputs": [],
   "source": [
    "import numpy as np\n",
    "import matplotlib.pyplot as plt\n",
    "import PIL\n",
    "from PIL import Image"
   ]
  },
  {
   "cell_type": "markdown",
   "metadata": {},
   "source": [
    "# 1.  PERCEPTRON:\n",
    "This Perceptron has to be trained to learn the '& problem': 1 & 1 = 1,  1 & 0 = 0,  0 & 1 = 1,  0 & 0 = 1\n"
   ]
  },
  {
   "cell_type": "markdown",
   "metadata": {},
   "source": [
    "## The first step is to define the hardlim function:"
   ]
  },
  {
   "cell_type": "code",
   "execution_count": 30,
   "metadata": {},
   "outputs": [],
   "source": [
    "def hardlim(x):\n",
    "    #Yor code here \n",
    "    return 1*(x >= 0)"
   ]
  },
  {
   "cell_type": "markdown",
   "metadata": {},
   "source": [
    "## Next we have to define our matrix of patterns P:"
   ]
  },
  {
   "cell_type": "code",
   "execution_count": 31,
   "metadata": {},
   "outputs": [],
   "source": [
    "P=np.array([[1, 3, 2, 1, 1.5,  3,  0.5, 1  , 2.1],\n",
    "            [1, 1, 1, 3, -1.7, 0, -1.7, 2.2, 2.1],\n",
    "            [1, 1, 4, 2, 1.8,  4,  0.3, 3.1, 2.1],\n",
    "            [1, 1, 1, 1, 1,    1,  1,   1,   1 ]])"
   ]
  },
  {
   "cell_type": "markdown",
   "metadata": {},
   "source": [
    "NOTICE that each pattern is represented as a column in P and although our patterns are bi-dimensional, each column has three components since the third component is just the input of the bias (always 1)"
   ]
  },
  {
   "cell_type": "markdown",
   "metadata": {},
   "source": [
    "## Now let's define our traget matrix T:"
   ]
  },
  {
   "cell_type": "code",
   "execution_count": 32,
   "metadata": {},
   "outputs": [],
   "source": [
    "T=np.array( [1, 0, 0, 0, 1, 0, 1, 0, 0 ] )"
   ]
  },
  {
   "cell_type": "markdown",
   "metadata": {},
   "source": [
    "## Let's set our weights W randomly:\n"
   ]
  },
  {
   "cell_type": "code",
   "execution_count": 33,
   "metadata": {},
   "outputs": [],
   "source": [
    "W= np.array([[0.041, -0.7, 0.5, 0.075],\n",
    "            [0.041, -0.7, 0.5, 0.075],\n",
    "            [0.041, -0.7, 0.5, 0.075],\n",
    "            [0.041, -0.7, 0.5, 0.075],\n",
    "            [0.041, -0.7, 0.5, 0.075],\n",
    "            [0.041, -0.7, 0.5, 0.075]])"
   ]
  },
  {
   "cell_type": "markdown",
   "metadata": {},
   "source": [
    "## Let's calculate the output of the net:"
   ]
  },
  {
   "cell_type": "code",
   "execution_count": 34,
   "metadata": {},
   "outputs": [
    {
     "data": {
      "text/plain": [
       "array([0, 0, 0, 0, 0, 0])"
      ]
     },
     "execution_count": 34,
     "metadata": {},
     "output_type": "execute_result"
    }
   ],
   "source": [
    "hardlim(np.dot(W,P[:,0]))"
   ]
  },
  {
   "cell_type": "markdown",
   "metadata": {},
   "source": [
    "This is the output of my sigle neuron network for the first pattern P[:,0]. However, if we want to test the network with all the patterns at once, we can do it like this: "
   ]
  },
  {
   "cell_type": "code",
   "execution_count": 35,
   "metadata": {},
   "outputs": [
    {
     "data": {
      "text/plain": [
       "array([[0, 0, 1, 0, 1, 1, 1, 1, 0],\n",
       "       [0, 0, 1, 0, 1, 1, 1, 1, 0],\n",
       "       [0, 0, 1, 0, 1, 1, 1, 1, 0],\n",
       "       [0, 0, 1, 0, 1, 1, 1, 1, 0],\n",
       "       [0, 0, 1, 0, 1, 1, 1, 1, 0],\n",
       "       [0, 0, 1, 0, 1, 1, 1, 1, 0]])"
      ]
     },
     "execution_count": 35,
     "metadata": {},
     "output_type": "execute_result"
    }
   ],
   "source": [
    "hardlim(np.dot(W,P))"
   ]
  },
  {
   "cell_type": "markdown",
   "metadata": {},
   "source": [
    "...and the error for all the patterns would be:"
   ]
  },
  {
   "cell_type": "code",
   "execution_count": 36,
   "metadata": {},
   "outputs": [
    {
     "data": {
      "text/plain": [
       "array([[ 1,  0, -1,  0,  0, -1,  0, -1,  0],\n",
       "       [ 1,  0, -1,  0,  0, -1,  0, -1,  0],\n",
       "       [ 1,  0, -1,  0,  0, -1,  0, -1,  0],\n",
       "       [ 1,  0, -1,  0,  0, -1,  0, -1,  0],\n",
       "       [ 1,  0, -1,  0,  0, -1,  0, -1,  0],\n",
       "       [ 1,  0, -1,  0,  0, -1,  0, -1,  0]])"
      ]
     },
     "execution_count": 36,
     "metadata": {},
     "output_type": "execute_result"
    }
   ],
   "source": [
    "T-hardlim(np.dot(W,P))  "
   ]
  },
  {
   "cell_type": "markdown",
   "metadata": {},
   "source": [
    "## Now let's plot the patterns (red class 0 and blue class 1), along with the decision line of my network as it this far (not trained):"
   ]
  },
  {
   "cell_type": "code",
   "execution_count": 37,
   "metadata": {},
   "outputs": [
    {
     "name": "stdout",
     "output_type": "stream",
     "text": [
      "[[ 0.041 -0.7    0.5    0.075]\n",
      " [ 0.041 -0.7    0.5    0.075]\n",
      " [ 0.041 -0.7    0.5    0.075]\n",
      " [ 0.041 -0.7    0.5    0.075]\n",
      " [ 0.041 -0.7    0.5    0.075]\n",
      " [ 0.041 -0.7    0.5    0.075]]\n"
     ]
    },
    {
     "data": {
      "image/png": "[encoded data removed]",
      "text/plain": [
       "<Figure size 432x288 with 1 Axes>"
      ]
     },
     "metadata": {
      "needs_background": "light"
     },
     "output_type": "display_data"
    }
   ],
   "source": [
    "# Your code here to add the decision line to this plot\n",
    "print(W)\n",
    "plt.axes(projection ='3d')\n",
    "p1_intercept = -(1/W[0][0])\n",
    "p2_intercept = -(1/W[0][1])\n",
    "p3_intercept = -(1/W[0][2])\n",
    "x1 = [0 , p1_intercept]\n",
    "y1 = [p2_intercept, 0]\n",
    "plt.plot(x1, y1, [0,0])\n",
    "p1_intercept = -(1/W[1][0])\n",
    "p2_intercept = -(1/W[1][1])\n",
    "p3_intercept = -(1/W[1][2])\n",
    "x1 = [0 , p1_intercept]\n",
    "y1 = [p2_intercept, 0]\n",
    "plt.plot(x1, y1, [0,0])\n",
    "\n",
    "p1_intercept = -(1/W[2][0])\n",
    "p2_intercept = -(1/W[2][1])\n",
    "p3_intercept = -(1/W[2][2])\n",
    "x1 = [0 , p1_intercept]\n",
    "z1 = [p2_intercept, 0]\n",
    "plt.plot(x1, [0,0], z1)\n",
    "p1_intercept = -(1/W[3][0])\n",
    "p2_intercept = -(1/W[3][1])\n",
    "p3_intercept = -(1/W[3][2])\n",
    "x1 = [0 , p1_intercept]\n",
    "z1 = [p2_intercept, 0]\n",
    "plt.plot(x1, [0,0], z1)\n",
    "\n",
    "p1_intercept = -(1/W[4][0])\n",
    "p2_intercept = -(1/W[4][1])\n",
    "p3_intercept = -(1/W[4][2])\n",
    "y1 = [0 , p1_intercept]\n",
    "z1 = [p2_intercept, 0]\n",
    "plt.plot([0,0], y1, z1)\n",
    "p1_intercept = -(1/W[5][0])\n",
    "p2_intercept = -(1/W[5][1])\n",
    "p3_intercept = -(1/W[5][2])\n",
    "y1 = [0 , p1_intercept]\n",
    "z1 = [p2_intercept, 0]\n",
    "plt.plot([0,0], y1, z1)\n",
    "\n",
    "\n",
    "#x2 = [0 , p1_intercept]\n",
    "#z2 = [p3_intercept, 0]\n",
    "#plt.plot(x2, [0,0], z2)\n",
    "#y3 = [0 , p2_intercept]\n",
    "#z3 = [p3_intercept, 0]\n",
    "#plt.plot([0,0], y3, z3)\n",
    "plt.plot([3,2,1],[1,1,3],[1,4,2],'ro') \n",
    "plt.plot([0],[0],[0],'bo') \n",
    "plt.show()"
   ]
  },
  {
   "cell_type": "markdown",
   "metadata": {},
   "source": [
    "NOTICE that the network is not performing well (as the error shows) just because its desision line has not been adjusted yet (the weights are not fine-tuned). "
   ]
  },
  {
   "cell_type": "markdown",
   "metadata": {},
   "source": [
    "## Now, let's train the network (fine-tune its weights):"
   ]
  },
  {
   "cell_type": "code",
   "execution_count": 38,
   "metadata": {},
   "outputs": [
    {
     "name": "stdout",
     "output_type": "stream",
     "text": [
      "[[ 1  0 -1  0  0 -1  0 -1  0]\n",
      " [ 1  0 -1  0  0 -1  0 -1  0]\n",
      " [ 1  0 -1  0  0 -1  0 -1  0]\n",
      " [ 1  0 -1  0  0 -1  0 -1  0]\n",
      " [ 1  0 -1  0  0 -1  0 -1  0]\n",
      " [ 1  0 -1  0  0 -1  0 -1  0]]\n",
      "[[1 0 0 0 1 0 1 0 0]\n",
      " [1 0 0 0 1 0 1 0 0]\n",
      " [1 0 0 0 1 0 1 0 0]\n",
      " [1 0 0 0 1 0 1 0 0]\n",
      " [1 0 0 0 1 0 1 0 0]\n",
      " [1 0 0 0 1 0 1 0 0]]\n",
      "[[1 0 0 0 1 0 0 0 0]\n",
      " [1 0 0 0 1 0 0 0 0]\n",
      " [1 0 0 0 1 0 0 0 0]\n",
      " [1 0 0 0 1 0 0 0 0]\n",
      " [1 0 0 0 1 0 0 0 0]\n",
      " [1 0 0 0 1 0 0 0 0]]\n",
      "[[1 0 0 0 0 0 0 0 0]\n",
      " [1 0 0 0 0 0 0 0 0]\n",
      " [1 0 0 0 0 0 0 0 0]\n",
      " [1 0 0 0 0 0 0 0 0]\n",
      " [1 0 0 0 0 0 0 0 0]\n",
      " [1 0 0 0 0 0 0 0 0]]\n",
      "[[1 0 0 0 0 0 0 0 0]\n",
      " [1 0 0 0 0 0 0 0 0]\n",
      " [1 0 0 0 0 0 0 0 0]\n",
      " [1 0 0 0 0 0 0 0 0]\n",
      " [1 0 0 0 0 0 0 0 0]\n",
      " [1 0 0 0 0 0 0 0 0]]\n",
      "[[ 1 -1  0  0  0 -1  0  0  0]\n",
      " [ 1 -1  0  0  0 -1  0  0  0]\n",
      " [ 1 -1  0  0  0 -1  0  0  0]\n",
      " [ 1 -1  0  0  0 -1  0  0  0]\n",
      " [ 1 -1  0  0  0 -1  0  0  0]\n",
      " [ 1 -1  0  0  0 -1  0  0  0]]\n",
      "[[1 0 0 0 1 0 0 0 0]\n",
      " [1 0 0 0 1 0 0 0 0]\n",
      " [1 0 0 0 1 0 0 0 0]\n",
      " [1 0 0 0 1 0 0 0 0]\n",
      " [1 0 0 0 1 0 0 0 0]\n",
      " [1 0 0 0 1 0 0 0 0]]\n",
      "[[1 0 0 0 0 0 0 0 0]\n",
      " [1 0 0 0 0 0 0 0 0]\n",
      " [1 0 0 0 0 0 0 0 0]\n",
      " [1 0 0 0 0 0 0 0 0]\n",
      " [1 0 0 0 0 0 0 0 0]\n",
      " [1 0 0 0 0 0 0 0 0]]\n",
      "[[1 0 0 0 0 0 0 0 0]\n",
      " [1 0 0 0 0 0 0 0 0]\n",
      " [1 0 0 0 0 0 0 0 0]\n",
      " [1 0 0 0 0 0 0 0 0]\n",
      " [1 0 0 0 0 0 0 0 0]\n",
      " [1 0 0 0 0 0 0 0 0]]\n",
      "[[ 1 -1  0  0  0 -1  0  0  0]\n",
      " [ 1 -1  0  0  0 -1  0  0  0]\n",
      " [ 1 -1  0  0  0 -1  0  0  0]\n",
      " [ 1 -1  0  0  0 -1  0  0  0]\n",
      " [ 1 -1  0  0  0 -1  0  0  0]\n",
      " [ 1 -1  0  0  0 -1  0  0  0]]\n",
      "[[1 0 0 0 1 0 0 0 0]\n",
      " [1 0 0 0 1 0 0 0 0]\n",
      " [1 0 0 0 1 0 0 0 0]\n",
      " [1 0 0 0 1 0 0 0 0]\n",
      " [1 0 0 0 1 0 0 0 0]\n",
      " [1 0 0 0 1 0 0 0 0]]\n",
      "[[1 0 0 0 0 0 0 0 0]\n",
      " [1 0 0 0 0 0 0 0 0]\n",
      " [1 0 0 0 0 0 0 0 0]\n",
      " [1 0 0 0 0 0 0 0 0]\n",
      " [1 0 0 0 0 0 0 0 0]\n",
      " [1 0 0 0 0 0 0 0 0]]\n",
      "[[1 0 0 0 0 0 0 0 0]\n",
      " [1 0 0 0 0 0 0 0 0]\n",
      " [1 0 0 0 0 0 0 0 0]\n",
      " [1 0 0 0 0 0 0 0 0]\n",
      " [1 0 0 0 0 0 0 0 0]\n",
      " [1 0 0 0 0 0 0 0 0]]\n"
     ]
    }
   ],
   "source": [
    "A=hardlim(np.dot(W,P))  \n",
    "E=T-A\n",
    "test = 1\n",
    "while test!=0:\n",
    "    test = 0\n",
    "    print(E)\n",
    "    length = len(P[0])\n",
    "    for i in range(length):\n",
    "        for j in range(6):\n",
    "            W[j][0] = W[j][0] + (E[j][i] * P[0][i])\n",
    "            W[j][1] = W[j][1] + (E[j][i] * P[1][i])\n",
    "            W[j][2] = W[j][2] + (E[j][i] * P[2][i])\n",
    "    A=hardlim(np.dot(W,P))\n",
    "    E=T-A\n",
    "    for k in range(length):\n",
    "        for l in range(6):\n",
    "            if E[l][k] == 1:\n",
    "                test = 1\n"
   ]
  },
  {
   "cell_type": "markdown",
   "metadata": {},
   "source": [
    "## After training let's plot again to see how the decision line was ajusted (weights fine-tuned) so the network now solves the problem flawlessly:"
   ]
  },
  {
   "cell_type": "code",
   "execution_count": 45,
   "metadata": {},
   "outputs": [
    {
     "name": "stdout",
     "output_type": "stream",
     "text": [
      "[[ 1.541 -1.4   -0.1    0.075]\n",
      " [ 1.541 -1.4   -0.1    0.075]\n",
      " [ 1.541 -1.4   -0.1    0.075]\n",
      " [ 1.541 -1.4   -0.1    0.075]\n",
      " [ 1.541 -1.4   -0.1    0.075]\n",
      " [ 1.541 -1.4   -0.1    0.075]]\n"
     ]
    },
    {
     "data": {
      "image/png": "[encoded data removed]",
      "text/plain": [
       "<Figure size 432x288 with 1 Axes>"
      ]
     },
     "metadata": {
      "needs_background": "light"
     },
     "output_type": "display_data"
    }
   ],
   "source": [
    "# Your code here to add the decision line to this plot\n",
    "print(W)\n",
    "plt.axes(projection ='3d')\n",
    "p1_intercept = -(1/W[0][0])\n",
    "p2_intercept = -(1/W[0][1])\n",
    "p3_intercept = -(1/W[0][2])\n",
    "x1 = [0 , p1_intercept]\n",
    "y1 = [p2_intercept, 0]\n",
    "plt.plot(x1, y1, [0,0])\n",
    "p1_intercept = (1/W[1][0])\n",
    "p2_intercept = (1/W[1][1])\n",
    "p3_intercept = (1/W[1][2])\n",
    "x1 = [0 , p1_intercept]\n",
    "y1 = [p2_intercept, 0]\n",
    "plt.plot(x1, y1, [0,0])\n",
    "\n",
    "p1_intercept = -(1/W[2][0])\n",
    "p2_intercept = -(1/W[2][1])\n",
    "p3_intercept = -(1/W[2][2])\n",
    "x1 = [0 , p1_intercept]\n",
    "z1 = [p2_intercept, 0]\n",
    "plt.plot(x1, [0,0], z1)\n",
    "p1_intercept = (1/W[3][0])\n",
    "p2_intercept = (1/W[3][1])\n",
    "p3_intercept = (1/W[3][2])\n",
    "x1 = [0 , p1_intercept]\n",
    "z1 = [p2_intercept, 0]\n",
    "plt.plot(x1, [0,0], z1)\n",
    "\n",
    "p1_intercept = -(1/W[4][0])\n",
    "p2_intercept = -(1/W[4][1])\n",
    "p3_intercept = -(1/W[4][2])\n",
    "y1 = [0 , p1_intercept]\n",
    "z1 = [p2_intercept, 0]\n",
    "plt.plot([0,0], y1, z1)\n",
    "p1_intercept = (1/W[5][0])\n",
    "p2_intercept = (1/W[5][1])\n",
    "p3_intercept = (1/W[5][2])\n",
    "y1 = [0 , p1_intercept]\n",
    "z1 = [p2_intercept, 0]\n",
    "plt.plot([0,0], y1, z1)\n",
    "plt.plot([3,2,1],[1,1,3],[1,4,2],'ro') \n",
    "plt.plot([0],[0],[0],'bo') \n",
    "plt.show()"
   ]
  },
  {
   "cell_type": "code",
   "execution_count": null,
   "metadata": {},
   "outputs": [],
   "source": []
  }
 ],
 "metadata": {
  "kernelspec": {
   "display_name": "Python 3 (ipykernel)",
   "language": "python",
   "name": "python3"
  },
  "language_info": {
   "codemirror_mode": {
    "name": "ipython",
    "version": 3
   },
   "file_extension": ".py",
   "mimetype": "text/x-python",
   "name": "python",
   "nbconvert_exporter": "python",
   "pygments_lexer": "ipython3",
   "version": "3.9.6"
  }
 },
 "nbformat": 4,
 "nbformat_minor": 2
}
