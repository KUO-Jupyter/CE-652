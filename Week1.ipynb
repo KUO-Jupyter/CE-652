{
 "cells": [
  {
   "cell_type": "markdown",
   "metadata": {},
   "source": [
    "# CE - 652\n",
    "## Artificial Intelligence for Autonomous Driving\n",
    "## Application Assigments \n",
    "##### Week: 1\n",
    "##### Instructor: Dr. Juan D. Gomez\n",
    "Related Videos: [The Graph that learns](https://youtu.be/bqi8TLuS6rk) / [The Perceptron](https://youtu.be/hHlm9wDTPHI)"
   ]
  },
  {
   "cell_type": "code",
   "execution_count": 1,
   "metadata": {},
   "outputs": [],
   "source": [
    "import numpy as np\n",
    "import matplotlib.pyplot as plt\n",
    "import PIL\n",
    "from PIL import Image"
   ]
  },
  {
   "cell_type": "markdown",
   "metadata": {},
   "source": [
    "# 1.  PERCEPTRON:\n",
    "This Perceptron has to be trained to learn the '& problem': 1 & 1 = 1,  1 & 0 = 0,  0 & 1 = 1,  0 & 0 = 1\n"
   ]
  },
  {
   "cell_type": "markdown",
   "metadata": {},
   "source": [
    "## The first step is to define the hardlim function:"
   ]
  },
  {
   "cell_type": "code",
   "execution_count": 2,
   "metadata": {},
   "outputs": [],
   "source": [
    "def hardlim(x):\n",
    "    #Yor code here \n",
    "    return 1*(x >= 0)  #Much easier than I had below... :)\n",
    "    \n",
    "    \n",
    "    #If dealing with a single dot product value\n",
    "    #try:\n",
    "    #    if x >= 0:\n",
    "    #        return np.array([1])\n",
    "    #    else:\n",
    "    #        return np.array([0])\n",
    "    ##If dealing with an array from the dot product\n",
    "    #except:\n",
    "    #    length = len(x)\n",
    "    #    res = np.zeros(length)\n",
    "    #    cnt = 0\n",
    "    #    \n",
    "    #    for i in x:\n",
    "    #        if i >= 0:\n",
    "    #            res[cnt] = 1\n",
    "    #        else:\n",
    "    #            res[cnt] = 0\n",
    "    #        cnt = cnt + 1\n",
    "    #    return res\n",
    "    #End Add Code-----------------------------------------"
   ]
  },
  {
   "cell_type": "markdown",
   "metadata": {},
   "source": [
    "## Next we have to define our matrix of patterns P:"
   ]
  },
  {
   "cell_type": "code",
   "execution_count": 3,
   "metadata": {},
   "outputs": [],
   "source": [
    "P=np.array([[1, 0, 0, 1 ],\n",
    "            [1, 0, 1, 0 ],\n",
    "            [1, 1, 1, 1 ]])"
   ]
  },
  {
   "cell_type": "markdown",
   "metadata": {},
   "source": [
    "NOTICE that each pattern is represented as a column in P and although our patterns are bi-dimensional, each column has three components since the third component is just the input of the bias (always 1)"
   ]
  },
  {
   "cell_type": "markdown",
   "metadata": {},
   "source": [
    "## Now let's define our traget matrix T:"
   ]
  },
  {
   "cell_type": "code",
   "execution_count": 4,
   "metadata": {},
   "outputs": [],
   "source": [
    "T=np.array( [1, 0, 0, 0 ] )"
   ]
  },
  {
   "cell_type": "markdown",
   "metadata": {},
   "source": [
    "The targets are 1 for the first column pattern in P and 0 for the rest."
   ]
  },
  {
   "cell_type": "markdown",
   "metadata": {},
   "source": [
    "## Let's set our weights W randomly:\n"
   ]
  },
  {
   "cell_type": "code",
   "execution_count": 5,
   "metadata": {},
   "outputs": [],
   "source": [
    "W= np.array([0.041, -0.7, 0.075])"
   ]
  },
  {
   "cell_type": "markdown",
   "metadata": {},
   "source": [
    "This is a 2 input, 1 output network (i.e. one single neuron with two inputs). The vector W of our single vectors however has 3 components because the third one represents the bias. I used this random numbers [0.041, -0.7, 0.075] to initialize but any random numbers will suffice."
   ]
  },
  {
   "cell_type": "markdown",
   "metadata": {},
   "source": [
    "## Let's calculate the output of the net:"
   ]
  },
  {
   "cell_type": "code",
   "execution_count": 6,
   "metadata": {},
   "outputs": [
    {
     "data": {
      "text/plain": [
       "0"
      ]
     },
     "execution_count": 6,
     "metadata": {},
     "output_type": "execute_result"
    }
   ],
   "source": [
    "hardlim(np.dot(W,P[:,0]))"
   ]
  },
  {
   "cell_type": "markdown",
   "metadata": {},
   "source": [
    "This is the output of my sigle neuron network for the first pattern P[:,0]. However, if we want to test the network with all the patterns at once, we can do it like this: "
   ]
  },
  {
   "cell_type": "code",
   "execution_count": 7,
   "metadata": {},
   "outputs": [
    {
     "data": {
      "text/plain": [
       "array([0, 1, 0, 1])"
      ]
     },
     "execution_count": 7,
     "metadata": {},
     "output_type": "execute_result"
    }
   ],
   "source": [
    "hardlim(np.dot(W,P))"
   ]
  },
  {
   "cell_type": "markdown",
   "metadata": {},
   "source": [
    "...and the error for all the patterns would be:"
   ]
  },
  {
   "cell_type": "code",
   "execution_count": 8,
   "metadata": {},
   "outputs": [
    {
     "data": {
      "text/plain": [
       "array([ 1, -1,  0, -1])"
      ]
     },
     "execution_count": 8,
     "metadata": {},
     "output_type": "execute_result"
    }
   ],
   "source": [
    "T-hardlim(np.dot(W,P))  "
   ]
  },
  {
   "cell_type": "markdown",
   "metadata": {},
   "source": [
    "## Now let's plot the patterns (red class 0 and blue class 1), along with the decision line of my network as it this far (not trained):"
   ]
  },
  {
   "cell_type": "code",
   "execution_count": 9,
   "metadata": {},
   "outputs": [
    {
     "data": {
      "image/png": "[encoded data removed]",
      "text/plain": [
       "<Figure size 432x288 with 1 Axes>"
      ]
     },
     "metadata": {
      "needs_background": "light"
     },
     "output_type": "display_data"
    }
   ],
   "source": [
    "# Your code here to add the decision line to this plot\n",
    "p1_intercept = -(1/W[0])\n",
    "p2_intercept = -(1/W[1])\n",
    "x = [0 , p1_intercept]\n",
    "y = [p2_intercept, 0]\n",
    "plt.plot(x, y)\n",
    "#End Add Code-----------------------------------------\n",
    "plt.plot([0,0,1],[0,1,0],'ro') \n",
    "plt.plot([1],[1],'bo') \n",
    "plt.show()"
   ]
  },
  {
   "cell_type": "markdown",
   "metadata": {},
   "source": [
    "NOTICE that the network is not performing well (as the error shows) just because its desision line has not been adjusted yet (the weights are not fine-tuned). "
   ]
  },
  {
   "cell_type": "markdown",
   "metadata": {},
   "source": [
    "## Now, let's train the network (fine-tune its weights):"
   ]
  },
  {
   "cell_type": "code",
   "execution_count": 10,
   "metadata": {},
   "outputs": [],
   "source": [
    "A=hardlim(np.dot(W,P))  \n",
    "E=T-A\n",
    "\n",
    "while sum(E)!=0:\n",
    "    #Your code here to update W\n",
    "    length = len(P[0])\n",
    "    for i in range(length):    \n",
    "        W[0] = W[0] + (E[i] * P[0][i])\n",
    "        W[1] = W[1] + (E[i] * P[1][i])\n",
    "        #W[2] = W[2] + (E[i] * P[2][i])\n",
    "    #End Add Code-----------------------------------------\n",
    "    A=hardlim(np.dot(W,P))\n",
    "    E=T-A\n"
   ]
  },
  {
   "cell_type": "markdown",
   "metadata": {},
   "source": [
    "## After training let's plot again to see how the decision line was ajusted (weights fine-tuned) so the network now solves the problem flawlessly:"
   ]
  },
  {
   "cell_type": "code",
   "execution_count": 11,
   "metadata": {},
   "outputs": [
    {
     "data": {
      "image/png": "[encoded data removed]",
      "text/plain": [
       "<Figure size 432x288 with 1 Axes>"
      ]
     },
     "metadata": {
      "needs_background": "light"
     },
     "output_type": "display_data"
    }
   ],
   "source": [
    "# Your code here to add the decision line to this plot\n",
    "p1_intercept = -(1/W[0])\n",
    "p2_intercept = -(1/W[1])\n",
    "x = [0 , p1_intercept]\n",
    "y = [p2_intercept, 0]\n",
    "plt.plot(x, y)\n",
    "#End Add Code-----------------------------------------\n",
    "plt.plot([0,0,1],[0,1,0],'ro') \n",
    "plt.plot([1],[1],'bo') \n",
    "plt.show()"
   ]
  },
  {
   "cell_type": "markdown",
   "metadata": {},
   "source": [
    "# 2. SELF DRIVING:"
   ]
  },
  {
   "cell_type": "markdown",
   "metadata": {},
   "source": [
    "## Let's first create a function that reads an image and returns its 23x23 binary matrix representation:"
   ]
  },
  {
   "cell_type": "code",
   "execution_count": 12,
   "metadata": {},
   "outputs": [],
   "source": [
    "def get_matrix(path):\n",
    "    img = Image.open(path).convert('LA')\n",
    "    mat=np.zeros((23,23))\n",
    "    for x in range(23):\n",
    "        for y in range (23):\n",
    "            mat[y][x]=img.getpixel((x, y))[0]\n",
    "            if mat[y][x]!=0:\n",
    "                mat[y][x]=1\n",
    "            \n",
    "    return mat"
   ]
  },
  {
   "cell_type": "markdown",
   "metadata": {},
   "source": [
    "## Now we can read and print our 3 selfdriving images:"
   ]
  },
  {
   "cell_type": "code",
   "execution_count": 13,
   "metadata": {},
   "outputs": [
    {
     "data": {
      "image/png": "[encoded data removed]",
      "text/plain": [
       "<Figure size 432x288 with 1 Axes>"
      ]
     },
     "metadata": {
      "needs_background": "light"
     },
     "output_type": "display_data"
    }
   ],
   "source": [
    "left=get_matrix('Imagen1.png')\n",
    "plt.imshow(left, cmap=\"gray\")\n",
    "plt.show()"
   ]
  },
  {
   "cell_type": "code",
   "execution_count": 14,
   "metadata": {},
   "outputs": [
    {
     "data": {
      "image/png": "[encoded data removed]",
      "text/plain": [
       "<Figure size 432x288 with 1 Axes>"
      ]
     },
     "metadata": {
      "needs_background": "light"
     },
     "output_type": "display_data"
    }
   ],
   "source": [
    "straight=get_matrix('Imagen2.png')\n",
    "plt.imshow(straight, cmap=\"gray\")\n",
    "plt.show()"
   ]
  },
  {
   "cell_type": "code",
   "execution_count": 15,
   "metadata": {},
   "outputs": [
    {
     "data": {
      "image/png": "[encoded data removed]",
      "text/plain": [
       "<Figure size 432x288 with 1 Axes>"
      ]
     },
     "metadata": {
      "needs_background": "light"
     },
     "output_type": "display_data"
    }
   ],
   "source": [
    "right=get_matrix('Imagen3.png')\n",
    "plt.imshow(right, cmap=\"gray\")\n",
    "plt.show()"
   ]
  },
  {
   "cell_type": "markdown",
   "metadata": {},
   "source": [
    "## This is how one of our images looks like when binarized:"
   ]
  },
  {
   "cell_type": "code",
   "execution_count": 16,
   "metadata": {},
   "outputs": [
    {
     "name": "stdout",
     "output_type": "stream",
     "text": [
      "0 0 0 0 0 0 0 0 0 0 0 0 0 0 0 0 0 0 0 0 0 0 0 \n",
      "\n",
      "0 0 0 0 0 0 0 0 0 0 0 0 0 0 0 0 0 0 0 0 0 0 0 \n",
      "\n",
      "0 0 0 0 0 0 0 0 0 0 0 0 0 0 0 0 0 0 0 0 0 0 0 \n",
      "\n",
      "0 0 0 0 0 0 0 0 0 0 0 0 0 0 0 0 0 0 0 0 0 0 0 \n",
      "\n",
      "0 0 0 0 0 0 0 0 0 0 0 0 0 0 0 0 0 0 0 0 0 0 0 \n",
      "\n",
      "0 0 0 0 0 0 0 0 0 0 0 0 0 0 0 0 0 0 0 0 0 0 0 \n",
      "\n",
      "0 1 1 0 0 0 0 0 0 0 0 0 0 0 0 0 0 0 0 0 0 0 0 \n",
      "\n",
      "0 0 1 1 0 0 0 0 0 0 0 0 0 0 0 0 0 0 0 0 0 0 0 \n",
      "\n",
      "0 0 0 1 1 1 0 0 0 0 0 0 0 0 0 0 0 0 0 0 0 0 0 \n",
      "\n",
      "0 0 0 1 1 1 1 0 0 0 0 0 0 0 0 0 0 0 0 0 0 0 0 \n",
      "\n",
      "0 0 0 0 1 1 1 1 0 0 0 0 0 0 0 0 0 0 0 0 0 0 0 \n",
      "\n",
      "0 0 0 0 0 1 1 1 1 1 0 0 0 0 0 0 0 0 0 0 0 0 0 \n",
      "\n",
      "0 0 0 0 0 0 1 1 1 1 1 0 0 0 0 0 0 0 0 0 0 0 0 \n",
      "\n",
      "0 0 0 0 0 0 1 1 1 1 1 1 0 0 0 0 0 0 0 0 0 0 0 \n",
      "\n",
      "0 0 0 0 0 0 0 1 1 1 1 1 1 0 0 0 0 0 0 0 0 0 0 \n",
      "\n",
      "0 0 0 0 0 0 0 1 1 1 1 1 1 1 0 0 0 0 0 0 0 0 0 \n",
      "\n",
      "0 0 0 0 0 0 0 1 1 1 1 1 1 1 1 0 0 0 0 0 0 0 0 \n",
      "\n",
      "0 0 0 0 0 0 0 1 1 1 1 1 1 1 1 1 0 0 0 0 0 0 0 \n",
      "\n",
      "0 0 0 0 0 0 0 1 1 1 1 1 1 1 1 1 0 0 0 0 0 0 0 \n",
      "\n",
      "0 0 0 0 0 0 1 1 1 1 1 1 1 1 1 1 0 0 0 0 0 0 0 \n",
      "\n",
      "0 0 0 0 0 0 1 1 1 1 1 1 1 1 1 1 1 0 0 0 0 0 0 \n",
      "\n",
      "0 0 0 0 0 0 1 1 1 1 1 1 1 1 1 1 1 0 0 0 0 0 0 \n",
      "\n",
      "0 0 0 0 0 0 1 1 1 1 1 1 1 1 1 1 1 0 0 0 0 0 0 \n",
      "\n"
     ]
    }
   ],
   "source": [
    "for i in range(23):\n",
    "    for j in range (23):\n",
    "        print(int(left[i][j]),end =\" \")\n",
    "    print('\\n')"
   ]
  },
  {
   "cell_type": "markdown",
   "metadata": {},
   "source": [
    "## Now using the code of the first point (PERCEPTRON) train a neural network that can \"drive a car\" based on our 3 images: \n",
    "If presented with the image left, it has to respond [1,0]. If presented with the image straight, it has to respond [0,0]. And, finally, if presented with the image right, it has to respond [0,1]"
   ]
  },
  {
   "cell_type": "markdown",
   "metadata": {},
   "source": [
    "INSTRUCTIONS: This perceptron network has two neurons and 529 (23x23) inputs. The matrix of patterns P is of size 530x3 (530 and not 529, because you have to add, to each of the 3 patterns, one more component=1 for the bias). The W matrix of weights is of size 2x530 (2 neurons of 530 parameters) and has to be set randomly. The target matrix T is the following:"
   ]
  },
  {
   "cell_type": "code",
   "execution_count": 17,
   "metadata": {},
   "outputs": [],
   "source": [
    "T=np.array([[1, 0, 0 ],\n",
    "            [0, 0, 1 ]])"
   ]
  },
  {
   "cell_type": "markdown",
   "metadata": {},
   "source": [
    "You have to reshape the matrixes left, straight and right to form the matrix P (do not forget to add 1 in the end to each reshaped matrix):"
   ]
  },
  {
   "cell_type": "code",
   "execution_count": 18,
   "metadata": {},
   "outputs": [],
   "source": [
    "# Your code here\n",
    "P = np.empty((530, 3), dtype=int)\n",
    "\n",
    "i = 0\n",
    "for x in range(23):\n",
    "    for y in range (23):\n",
    "        P[i][0] = left[x][y]\n",
    "        i = i+1\n",
    "P[i][0] = 1 #bias\n",
    "i = 0\n",
    "for x in range(23):\n",
    "    for y in range (23):\n",
    "        P[i][1] = straight[x][y]\n",
    "        i = i+1\n",
    "P[i][1] = 1 #bias\n",
    "i = 0\n",
    "for x in range(23):\n",
    "    for y in range (23):\n",
    "        P[i][2] = right[x][y]\n",
    "        i = i+1\n",
    "P[i][2] = 1 #bias\n",
    "#End Add Code-----------------------------------------"
   ]
  },
  {
   "cell_type": "code",
   "execution_count": 19,
   "metadata": {},
   "outputs": [
    {
     "data": {
      "text/plain": [
       "(530, 3)"
      ]
     },
     "execution_count": 19,
     "metadata": {},
     "output_type": "execute_result"
    }
   ],
   "source": [
    "P.shape"
   ]
  },
  {
   "cell_type": "markdown",
   "metadata": {},
   "source": [
    "Set W randomly:"
   ]
  },
  {
   "cell_type": "code",
   "execution_count": 20,
   "metadata": {},
   "outputs": [],
   "source": [
    "# Your code here\n",
    "W = np.empty((2, 530))\n",
    "W[0] = np.random.rand(530)\n",
    "W[1] = np.random.rand(530)\n",
    "#for x in range(530):\n",
    "#    W[0][i] = np.random.rand()\n",
    "#End Add Code-----------------------------------------"
   ]
  },
  {
   "cell_type": "code",
   "execution_count": 21,
   "metadata": {},
   "outputs": [
    {
     "data": {
      "text/plain": [
       "(2, 530)"
      ]
     },
     "execution_count": 21,
     "metadata": {},
     "output_type": "execute_result"
    }
   ],
   "source": [
    "W.shape"
   ]
  },
  {
   "cell_type": "markdown",
   "metadata": {},
   "source": [
    "Train in a 'while' loop:"
   ]
  },
  {
   "cell_type": "code",
   "execution_count": 22,
   "metadata": {},
   "outputs": [],
   "source": [
    "#Your code here \n",
    "A=hardlim(np.dot(W[0],P))  \n",
    "E=T-A\n",
    "while sum(sum(E)) != 0:\n",
    "    #Your code here to update W\n",
    "    length = len(P[0])\n",
    "    for i in range(length):\n",
    "        for j in range (530):\n",
    "            W[0][j] = W[0][j] + (E[0][i] * P[j][i])\n",
    "            W[1][j] = W[1][j] + (E[1][i] * P[j][i])\n",
    "    A=hardlim(np.dot(W,P))\n",
    "    E=T-A\n",
    "#End Add Code-----------------------------------------"
   ]
  },
  {
   "cell_type": "markdown",
   "metadata": {},
   "source": [
    "Print the error:"
   ]
  },
  {
   "cell_type": "code",
   "execution_count": 23,
   "metadata": {},
   "outputs": [
    {
     "name": "stdout",
     "output_type": "stream",
     "text": [
      "0\n"
     ]
    }
   ],
   "source": [
    "print(sum(sum(E)))"
   ]
  },
  {
   "cell_type": "markdown",
   "metadata": {},
   "source": [
    "Print the actual output of the network after training:"
   ]
  },
  {
   "cell_type": "code",
   "execution_count": 24,
   "metadata": {},
   "outputs": [
    {
     "data": {
      "text/plain": [
       "array([[1, 0, 0],\n",
       "       [0, 0, 1]])"
      ]
     },
     "execution_count": 24,
     "metadata": {},
     "output_type": "execute_result"
    }
   ],
   "source": [
    "A"
   ]
  }
 ],
 "metadata": {
  "kernelspec": {
   "display_name": "Python 3 (ipykernel)",
   "language": "python",
   "name": "python3"
  },
  "language_info": {
   "codemirror_mode": {
    "name": "ipython",
    "version": 3
   },
   "file_extension": ".py",
   "mimetype": "text/x-python",
   "name": "python",
   "nbconvert_exporter": "python",
   "pygments_lexer": "ipython3",
   "version": "3.9.6"
  }
 },
 "nbformat": 4,
 "nbformat_minor": 2
}
